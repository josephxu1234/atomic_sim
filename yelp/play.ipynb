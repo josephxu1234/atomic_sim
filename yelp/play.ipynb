{
 "cells": [
  {
   "cell_type": "code",
   "execution_count": null,
   "metadata": {},
   "outputs": [
    {
     "name": "stderr",
     "output_type": "stream",
     "text": [
      "/Users/josephxu/Library/Python/3.9/lib/python/site-packages/urllib3/__init__.py:35: NotOpenSSLWarning: urllib3 v2 only supports OpenSSL 1.1.1+, currently the 'ssl' module is compiled with 'LibreSSL 2.8.3'. See: https://github.com/urllib3/urllib3/issues/3020\n",
      "  warnings.warn(\n"
     ]
    }
   ],
   "source": [
    "from yelpapi import YelpAPI\n",
    "import argparse\n",
    "from pprint import pprint\n",
    "\n",
    "import pickle # for storing python objects as .pkl files\n",
    "import json"
   ]
  },
  {
   "cell_type": "code",
   "execution_count": null,
   "metadata": {},
   "outputs": [],
   "source": [
    "import pandas as pd # for representing data in a spreadsheet-like format"
   ]
  },
  {
   "cell_type": "code",
   "execution_count": null,
   "metadata": {},
   "outputs": [],
   "source": [
    "with open('yelp.pkl', 'rb') as f:\n",
    "    yelp = pickle.load(f)"
   ]
  },
  {
   "cell_type": "code",
   "execution_count": null,
   "metadata": {},
   "outputs": [
    {
     "data": {
      "text/plain": [
       "[{'id': 'JUp30yMPWuSXtPG5Vboymw',\n",
       "  'alias': 'quarters-teahouse-san-francisco-4',\n",
       "  'name': 'Quarters Teahouse',\n",
       "  'image_url': 'https://s3-media4.fl.yelpcdn.com/bphoto/zy45FX5qtaZy5crdi_WkeA/o.jpg',\n",
       "  'is_closed': False,\n",
       "  'url': 'https://www.yelp.com/biz/quarters-teahouse-san-francisco-4?adjust_creative=Ruwu745EiheA2LhYFIucGw&utm_campaign=yelp_api_v3&utm_medium=api_v3_business_search&utm_source=Ruwu745EiheA2LhYFIucGw',\n",
       "  'review_count': 29,\n",
       "  'categories': [{'alias': 'coffee', 'title': 'Coffee & Tea'},\n",
       "   {'alias': 'bubbletea', 'title': 'Bubble Tea'},\n",
       "   {'alias': 'juicebars', 'title': 'Juice Bars & Smoothies'}],\n",
       "  'rating': 4.8,\n",
       "  'coordinates': {'latitude': 37.742792, 'longitude': -122.478174},\n",
       "  'transactions': ['pickup'],\n",
       "  'location': {'address1': '1111 Taraval St',\n",
       "   'address2': None,\n",
       "   'address3': '',\n",
       "   'city': 'San Francisco',\n",
       "   'zip_code': '94116',\n",
       "   'country': 'US',\n",
       "   'state': 'CA',\n",
       "   'display_address': ['1111 Taraval St', 'San Francisco, CA 94116']},\n",
       "  'phone': '+16282804307',\n",
       "  'display_phone': '(628) 280-4307',\n",
       "  'distance': 4185.813067010398,\n",
       "  'business_hours': [{'open': [{'is_overnight': False,\n",
       "      'start': '1200',\n",
       "      'end': '1900',\n",
       "      'day': 0},\n",
       "     {'is_overnight': False, 'start': '1200', 'end': '1900', 'day': 1},\n",
       "     {'is_overnight': False, 'start': '1200', 'end': '1900', 'day': 2},\n",
       "     {'is_overnight': False, 'start': '1200', 'end': '1900', 'day': 3},\n",
       "     {'is_overnight': False, 'start': '1200', 'end': '1900', 'day': 4},\n",
       "     {'is_overnight': False, 'start': '1200', 'end': '1900', 'day': 5},\n",
       "     {'is_overnight': False, 'start': '1200', 'end': '1600', 'day': 6}],\n",
       "    'hours_type': 'REGULAR',\n",
       "    'is_open_now': True}],\n",
       "  'attributes': {'business_temp_closed': None,\n",
       "   'menu_url': None,\n",
       "   'waitlist_reservation': None}},\n",
       " {'id': 'b_ZEMFwyT0jevqayB6Zu-g',\n",
       "  'alias': 'little-sweet-san-francisco-96',\n",
       "  'name': 'Little Sweet',\n",
       "  'image_url': 'https://s3-media2.fl.yelpcdn.com/bphoto/4-LqWc5wCraggiD44RF3HA/o.jpg',\n",
       "  'is_closed': False,\n",
       "  'url': 'https://www.yelp.com/biz/little-sweet-san-francisco-96?adjust_creative=Ruwu745EiheA2LhYFIucGw&utm_campaign=yelp_api_v3&utm_medium=api_v3_business_search&utm_source=Ruwu745EiheA2LhYFIucGw',\n",
       "  'review_count': 37,\n",
       "  'categories': [{'alias': 'juicebars', 'title': 'Juice Bars & Smoothies'},\n",
       "   {'alias': 'coffee', 'title': 'Coffee & Tea'},\n",
       "   {'alias': 'bubbletea', 'title': 'Bubble Tea'}],\n",
       "  'rating': 4.7,\n",
       "  'coordinates': {'latitude': 37.7904007394903,\n",
       "   'longitude': -122.40375333226862},\n",
       "  'transactions': ['delivery', 'pickup'],\n",
       "  'price': '$$',\n",
       "  'location': {'address1': '224 Kearny St',\n",
       "   'address2': None,\n",
       "   'address3': '',\n",
       "   'city': 'San Francisco',\n",
       "   'zip_code': '94108',\n",
       "   'country': 'US',\n",
       "   'state': 'CA',\n",
       "   'display_address': ['224 Kearny St', 'San Francisco, CA 94108']},\n",
       "  'phone': '+16289990178',\n",
       "  'display_phone': '(628) 999-0178',\n",
       "  'distance': 4360.938641322052,\n",
       "  'business_hours': [{'open': [{'is_overnight': False,\n",
       "      'start': '1000',\n",
       "      'end': '1900',\n",
       "      'day': 0},\n",
       "     {'is_overnight': False, 'start': '1000', 'end': '1900', 'day': 1},\n",
       "     {'is_overnight': False, 'start': '1000', 'end': '1900', 'day': 2},\n",
       "     {'is_overnight': False, 'start': '1000', 'end': '1900', 'day': 3},\n",
       "     {'is_overnight': False, 'start': '1000', 'end': '1900', 'day': 4},\n",
       "     {'is_overnight': False, 'start': '1100', 'end': '1900', 'day': 5},\n",
       "     {'is_overnight': False, 'start': '1100', 'end': '1900', 'day': 6}],\n",
       "    'hours_type': 'REGULAR',\n",
       "    'is_open_now': True}],\n",
       "  'attributes': {'business_temp_closed': None,\n",
       "   'menu_url': 'https://www.little-sweet.com/tea-flavors',\n",
       "   'waitlist_reservation': None}},\n",
       " {'id': 'MRnQZtwUv_8hef9EVvYsmw',\n",
       "  'alias': 'yokee-milk-tea-san-francisco-7',\n",
       "  'name': 'Yokee Milk Tea',\n",
       "  'image_url': 'https://s3-media1.fl.yelpcdn.com/bphoto/GkH8lmcDHTyGt1zt76IYWw/o.jpg',\n",
       "  'is_closed': False,\n",
       "  'url': 'https://www.yelp.com/biz/yokee-milk-tea-san-francisco-7?adjust_creative=Ruwu745EiheA2LhYFIucGw&utm_campaign=yelp_api_v3&utm_medium=api_v3_business_search&utm_source=Ruwu745EiheA2LhYFIucGw',\n",
       "  'review_count': 93,\n",
       "  'categories': [{'alias': 'bubbletea', 'title': 'Bubble Tea'},\n",
       "   {'alias': 'coffee', 'title': 'Coffee & Tea'},\n",
       "   {'alias': 'juicebars', 'title': 'Juice Bars & Smoothies'}],\n",
       "  'rating': 4.6,\n",
       "  'coordinates': {'latitude': 37.79054304314519, 'longitude': -122.4042567},\n",
       "  'transactions': ['delivery', 'pickup'],\n",
       "  'price': '$$',\n",
       "  'location': {'address1': '253 Kearny St',\n",
       "   'address2': None,\n",
       "   'address3': '',\n",
       "   'city': 'San Francisco',\n",
       "   'zip_code': '94108',\n",
       "   'country': 'US',\n",
       "   'state': 'CA',\n",
       "   'display_address': ['253 Kearny St', 'San Francisco, CA 94108']},\n",
       "  'phone': '+14153981688',\n",
       "  'display_phone': '(415) 398-1688',\n",
       "  'distance': 4343.908663660879,\n",
       "  'business_hours': [{'open': [{'is_overnight': False,\n",
       "      'start': '1130',\n",
       "      'end': '1730',\n",
       "      'day': 0},\n",
       "     {'is_overnight': False, 'start': '1130', 'end': '1730', 'day': 1},\n",
       "     {'is_overnight': False, 'start': '1130', 'end': '1730', 'day': 2},\n",
       "     {'is_overnight': False, 'start': '1130', 'end': '1730', 'day': 3},\n",
       "     {'is_overnight': False, 'start': '1130', 'end': '1730', 'day': 4},\n",
       "     {'is_overnight': False, 'start': '1200', 'end': '1730', 'day': 5}],\n",
       "    'hours_type': 'REGULAR',\n",
       "    'is_open_now': True}],\n",
       "  'attributes': {'business_temp_closed': None,\n",
       "   'menu_url': 'https://yokeemilkteasf.kwickmenu.com/index.php',\n",
       "   'waitlist_reservation': None}},\n",
       " {'id': 'NjyZgRN0AuNEerEd-z5VXg',\n",
       "  'alias': 'boba-and-brew-san-francisco',\n",
       "  'name': 'Boba & Brew',\n",
       "  'image_url': 'https://s3-media2.fl.yelpcdn.com/bphoto/h9R5ABruLJtLUdPM3VPNOw/o.jpg',\n",
       "  'is_closed': False,\n",
       "  'url': 'https://www.yelp.com/biz/boba-and-brew-san-francisco?adjust_creative=Ruwu745EiheA2LhYFIucGw&utm_campaign=yelp_api_v3&utm_medium=api_v3_business_search&utm_source=Ruwu745EiheA2LhYFIucGw',\n",
       "  'review_count': 56,\n",
       "  'categories': [{'alias': 'coffee', 'title': 'Coffee & Tea'},\n",
       "   {'alias': 'bubbletea', 'title': 'Bubble Tea'},\n",
       "   {'alias': 'desserts', 'title': 'Desserts'}],\n",
       "  'rating': 4.6,\n",
       "  'coordinates': {'latitude': 37.789870870246816,\n",
       "   'longitude': -122.39363206234982},\n",
       "  'transactions': ['delivery', 'pickup'],\n",
       "  'location': {'address1': '250 Main St',\n",
       "   'address2': '',\n",
       "   'address3': None,\n",
       "   'city': 'San Francisco',\n",
       "   'zip_code': '94105',\n",
       "   'country': 'US',\n",
       "   'state': 'CA',\n",
       "   'display_address': ['250 Main St', 'San Francisco, CA 94105']},\n",
       "  'phone': '+16504401516',\n",
       "  'display_phone': '(650) 440-1516',\n",
       "  'distance': 4953.619889809842,\n",
       "  'business_hours': [{'open': [{'is_overnight': False,\n",
       "      'start': '1100',\n",
       "      'end': '1900',\n",
       "      'day': 0},\n",
       "     {'is_overnight': False, 'start': '1100', 'end': '1900', 'day': 1},\n",
       "     {'is_overnight': False, 'start': '1100', 'end': '1900', 'day': 2},\n",
       "     {'is_overnight': False, 'start': '1100', 'end': '1900', 'day': 3},\n",
       "     {'is_overnight': False, 'start': '1100', 'end': '1900', 'day': 4},\n",
       "     {'is_overnight': False, 'start': '1100', 'end': '1900', 'day': 5},\n",
       "     {'is_overnight': False, 'start': '1100', 'end': '1900', 'day': 6}],\n",
       "    'hours_type': 'REGULAR',\n",
       "    'is_open_now': True}],\n",
       "  'attributes': {'business_temp_closed': None,\n",
       "   'menu_url': None,\n",
       "   'waitlist_reservation': None}},\n",
       " {'id': 'sSiUcnbwPQ4ssHY3EMV0Fw',\n",
       "  'alias': 'matcha-cafe-maiko-san-francisco-10',\n",
       "  'name': 'Matcha Cafe Maiko',\n",
       "  'image_url': 'https://s3-media1.fl.yelpcdn.com/bphoto/2-hv5btW1605MECuC-AtrQ/o.jpg',\n",
       "  'is_closed': False,\n",
       "  'url': 'https://www.yelp.com/biz/matcha-cafe-maiko-san-francisco-10?adjust_creative=Ruwu745EiheA2LhYFIucGw&utm_campaign=yelp_api_v3&utm_medium=api_v3_business_search&utm_source=Ruwu745EiheA2LhYFIucGw',\n",
       "  'review_count': 1522,\n",
       "  'categories': [{'alias': 'coffee', 'title': 'Coffee & Tea'},\n",
       "   {'alias': 'icecream', 'title': 'Ice Cream & Frozen Yogurt'},\n",
       "   {'alias': 'bubbletea', 'title': 'Bubble Tea'}],\n",
       "  'rating': 4.5,\n",
       "  'coordinates': {'latitude': 37.785051, 'longitude': -122.432095},\n",
       "  'transactions': ['delivery'],\n",
       "  'price': '$$',\n",
       "  'location': {'address1': '1581 Webster St',\n",
       "   'address2': None,\n",
       "   'address3': '',\n",
       "   'city': 'San Francisco',\n",
       "   'zip_code': '94115',\n",
       "   'country': 'US',\n",
       "   'state': 'CA',\n",
       "   'display_address': ['1581 Webster St', 'San Francisco, CA 94115']},\n",
       "  'phone': '+14157570919',\n",
       "  'display_phone': '(415) 757-0919',\n",
       "  'distance': 2712.6398841284977,\n",
       "  'business_hours': [{'open': [{'is_overnight': False,\n",
       "      'start': '1100',\n",
       "      'end': '2100',\n",
       "      'day': 0},\n",
       "     {'is_overnight': False, 'start': '1100', 'end': '2100', 'day': 1},\n",
       "     {'is_overnight': False, 'start': '1100', 'end': '2100', 'day': 2},\n",
       "     {'is_overnight': False, 'start': '1100', 'end': '2100', 'day': 3},\n",
       "     {'is_overnight': False, 'start': '1100', 'end': '2200', 'day': 4},\n",
       "     {'is_overnight': False, 'start': '1100', 'end': '2200', 'day': 5},\n",
       "     {'is_overnight': False, 'start': '1100', 'end': '2100', 'day': 6}],\n",
       "    'hours_type': 'REGULAR',\n",
       "    'is_open_now': True}],\n",
       "  'attributes': {'business_temp_closed': None,\n",
       "   'menu_url': 'http://www.matchacafe-maiko.com/eng/menu/',\n",
       "   'waitlist_reservation': None}}]"
      ]
     },
     "execution_count": 13,
     "metadata": {},
     "output_type": "execute_result"
    }
   ],
   "source": [
    "yelp['businesses']\n",
    "\n",
    "# how the response data structure is organized;\n",
    "\n",
    "# response: businesses, total, region\n",
    "\n",
    "# businesses: [business1, business2, business3, ....]\n",
    "\n",
    "\n",
    "# business1: id, alias, name, .....\n",
    "# business2: id, alias, name,....."
   ]
  },
  {
   "cell_type": "code",
   "execution_count": null,
   "metadata": {},
   "outputs": [
    {
     "data": {
      "text/plain": [
       "dict_keys(['businesses', 'total', 'region'])"
      ]
     },
     "execution_count": 15,
     "metadata": {},
     "output_type": "execute_result"
    }
   ],
   "source": [
    "yelp.keys()"
   ]
  },
  {
   "cell_type": "code",
   "execution_count": null,
   "metadata": {},
   "outputs": [
    {
     "name": "stdout",
     "output_type": "stream",
     "text": [
      "Quarters Teahouse San Francisco\n",
      "Little Sweet San Francisco\n",
      "Yokee Milk Tea San Francisco\n",
      "Boba & Brew San Francisco\n",
      "Matcha Cafe Maiko San Francisco\n"
     ]
    }
   ],
   "source": [
    "businesses = yelp['businesses']\n",
    "num_businesses = len(businesses)\n",
    "\n",
    "# initialize empty lists to store the names of businesses + the cities they are in\n",
    "names = []\n",
    "cities = []\n",
    "\n",
    "for i in range(num_businesses): # i = business0, business1, .... \n",
    "    print(businesses[i]['name'], businesses[i]['location']['city'])\n",
    "    names.append(businesses[i]['name']) # get the ith business's name\n",
    "    cities.append(businesses[i]['location']['city']) # get the ith's business's city from its location"
   ]
  },
  {
   "cell_type": "code",
   "execution_count": 23,
   "metadata": {},
   "outputs": [],
   "source": [
    "spreadsheet = pd.DataFrame({\n",
    "    'names' : names,\n",
    "    'cities': cities\n",
    "})"
   ]
  },
  {
   "cell_type": "code",
   "execution_count": 25,
   "metadata": {},
   "outputs": [],
   "source": [
    "spreadsheet.to_csv('/Users/josephxu/Desktop/atomic_sim/yelp/boba.csv')"
   ]
  }
 ],
 "metadata": {
  "kernelspec": {
   "display_name": "Python 3",
   "language": "python",
   "name": "python3"
  },
  "language_info": {
   "codemirror_mode": {
    "name": "ipython",
    "version": 3
   },
   "file_extension": ".py",
   "mimetype": "text/x-python",
   "name": "python",
   "nbconvert_exporter": "python",
   "pygments_lexer": "ipython3",
   "version": "3.9.6"
  }
 },
 "nbformat": 4,
 "nbformat_minor": 2
}
