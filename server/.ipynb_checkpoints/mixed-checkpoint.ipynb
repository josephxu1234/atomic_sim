{
 "cells": [
  {
   "cell_type": "code",
   "execution_count": 1,
   "id": "5418dc0d-91ca-4c86-94e0-1ec1106b1a0b",
   "metadata": {},
   "outputs": [],
   "source": [
    "import networkx as nx\n",
    "from itertools import product\n",
    "from typing import List, Tuple, Dict\n",
    "import json\n",
    "import random\n",
    "import sympy as sp\n",
    "import numpy as np\n",
    "\n",
    "from routing_game_utils import *"
   ]
  },
  {
   "cell_type": "code",
   "execution_count": 2,
   "id": "43af8032-4fee-4e0d-be90-2c76547ab65f",
   "metadata": {},
   "outputs": [
    {
     "ename": "NameError",
     "evalue": "name 'softmax_logits' is not defined",
     "output_type": "error",
     "traceback": [
      "\u001b[0;31m---------------------------------------------------------------------------\u001b[0m",
      "\u001b[0;31mNameError\u001b[0m                                 Traceback (most recent call last)",
      "Cell \u001b[0;32mIn[2], line 1\u001b[0m\n\u001b[0;32m----> 1\u001b[0m \u001b[43msoftmax_logits\u001b[49m(np\u001b[38;5;241m.\u001b[39marray([\u001b[38;5;241m0\u001b[39m, \u001b[38;5;241m0\u001b[39m]))\n",
      "\u001b[0;31mNameError\u001b[0m: name 'softmax_logits' is not defined"
     ]
    }
   ],
   "source": [
    "softmax(np.array([0, 0]))"
   ]
  },
  {
   "cell_type": "code",
   "execution_count": 2,
   "id": "929bbc41-50a3-4828-94a1-3875e72df15f",
   "metadata": {},
   "outputs": [],
   "source": [
    "def mixed(\n",
    "    G: nx.DiGraph,\n",
    "    source_sink_pairs: List[Tuple[int, int]],\n",
    "    demands: List[int],\n",
    "    latency_functions: Dict,\n",
    "    max_iterations: int = 1000,\n",
    "    learning_rate = .1,\n",
    "    verbose = False\n",
    "):\n",
    "    # each player's strategy set is represented as a set of available paths from their source to their sink\n",
    "    paths = get_strategy_sets(G, source_sink_pairs)\n",
    "    num_players = len(source_sink_pairs)\n",
    "\n",
    "    # start with no bias for any particular strategy\n",
    "    logits = [np.array([1.0 for _ in range(len(player_path))]) for player_path in paths]\n",
    "\n",
    "    # for each player, initialize to random strategy\n",
    "    random.seed(10)\n",
    "    current_flow = [random.randint(0, len(paths[player_idx]) - 1) for player_idx in range(num_players)]\n",
    "\n",
    "    if verbose:\n",
    "        print('paths ', paths)\n",
    "        print('starting flow ', current_flow)\n",
    "        \n",
    "    iteration = 0\n",
    "\n",
    "    # debugging information, to make sure players are picked uniformly at random\n",
    "    picked_players = [0 for _ in range(num_players)]\n",
    "    \n",
    "    while iteration < max_iterations:\n",
    "        \n",
    "        if verbose:\n",
    "            print('-' * 8, 'starting round: ', iteration, '-' * 8)\n",
    "        iteration += 1\n",
    "\n",
    "        # previous flows, latencies\n",
    "\n",
    "        # TODO: can we reduce the amount of times this calculation is called so it's more efficient?\n",
    "        f_e, player_latencies, total_latency = calculate_edge_flows(paths, current_flow, demands, latency_functions)\n",
    "        player_idx = random.randint(0, num_players - 1) # pick a random player\n",
    "        picked_players[player_idx] += 1\n",
    "\n",
    "        # get previous latency/path\n",
    "        prev_latency = player_latencies[player_idx]\n",
    "        prev_path_idx = current_flow[player_idx]\n",
    "        prev_path = paths[player_idx][prev_path_idx]\n",
    "        \n",
    "        # construct a new flow\n",
    "        mixed_strat = softmax(logits[player_idx]) # get a player's mixed strategy from their logits\n",
    "\n",
    "        # even if we were at the best move, and we pick a worse alternative\n",
    "        # what would happen is that we would evaluate the alternative to be bad, lower its probability of happening\n",
    "        # then maybe go back to the best, which by virtue of being the best, we would increase its probability of happening again\n",
    "        # this way, good moves get rewarded, bad moves get punished probabilistically\n",
    "        alternative_path_idx = sample_move_skip_index(mixed_strat, prev_path_idx) # pick some alternate move (no point of repeating current move)\n",
    "        alternative_path = paths[player_idx][alternative_path_idx]\n",
    "\n",
    "        # debugging information\n",
    "        if verbose:\n",
    "            print('picking player', player_idx)\n",
    "            print('previous latency', prev_latency)\n",
    "            print('prev path idx', prev_path_idx)\n",
    "            print('alternative path idx', alternative_path_idx)\n",
    "            print('alternative_path')\n",
    "\n",
    "        # develop alternative path\n",
    "        hypothetical_f_e = f_e.copy()\n",
    "        demand = demands[player_idx]\n",
    "\n",
    "        # constructing the alternative flow\n",
    "        # step 1: Remove player's demand from the path's edges they are currently using\n",
    "        for i in range(len(prev_path) - 1):\n",
    "            edge = (prev_path[i], prev_path[i + 1])\n",
    "            hypothetical_f_e[edge] -= demand\n",
    "\n",
    "        # step 2: Add player's demand to alternative path edges\n",
    "        for i in range(len(alternative_path) - 1):\n",
    "            edge = (alternative_path[i], alternative_path[i + 1])\n",
    "            hypothetical_f_e[edge] = hypothetical_f_e.get(edge, 0) + demand\n",
    "\n",
    "        # step 3: Compute latency for the alternative path\n",
    "        alternative_latency = 0\n",
    "        for i in range(len(alternative_path) - 1):\n",
    "            edge = (alternative_path[i], alternative_path[i + 1])\n",
    "            congestion = hypothetical_f_e[edge]\n",
    "            edge_latency = latency_functions[edge](congestion)\n",
    "            alternative_latency += edge_latency\n",
    "\n",
    "        # get difference between alternative utility and current utility\n",
    "        # utility is -1 * latency\n",
    "        # give logit a positive increase for good delta where alternative utility increased\n",
    "        delta = -alternative_latency - (-prev_latency)\n",
    "\n",
    "        # debugging data\n",
    "        if verbose:\n",
    "            print('delta', delta)\n",
    "            print('old logits: ', logits[player_idx])\n",
    "\n",
    "        # update logits. positive delta = alternative was good, and should be picked more frequently in the future\n",
    "        logits[player_idx][alternative_path_idx] += learning_rate * delta\n",
    "\n",
    "        # debugging data\n",
    "        if verbose:\n",
    "            print('new logits: ', logits[player_idx])\n",
    "\n",
    "        current_flow[player_idx] = alternative_path_idx\n",
    "\n",
    "    # get final mixed strategy profile\n",
    "    probabilities_profile = [softmax(player_logits) for player_logits in logits]\n",
    "    print(picked_players)\n",
    "    # paths: strategy sets for each player\n",
    "    # current_flow: the equilibrium flow. each idx represents a player, each value represents the strategy that the player picked (ex: strategy 0, 1, ...)\n",
    "    # player_latencies: the latency of each player in the equilibrium flow\n",
    "    # total latency: sum of player latencies\n",
    "    return paths, probabilities_profile"
   ]
  },
  {
   "cell_type": "code",
   "execution_count": 3,
   "id": "daf2fd4d-114c-4de1-aa4b-e350007bd7c5",
   "metadata": {},
   "outputs": [],
   "source": [
    "def braess_paradox_mixed():\n",
    "    G, source_sink_pairs, demands, latency_functions = json_to_atomic_instance('graph_examples/braess_paradox.txt')\n",
    "    paths, probabilties_profile = mixed(G, source_sink_pairs, demands, latency_functions, 10, .1, verbose=True)\n",
    "    print('All paths: ', paths)\n",
    "    print('Probabilities profile: ', probabilties_profile)"
   ]
  },
  {
   "cell_type": "code",
   "execution_count": 4,
   "id": "934271b2-a143-4984-aab9-672284fedbc4",
   "metadata": {},
   "outputs": [
    {
     "name": "stdout",
     "output_type": "stream",
     "text": [
      "paths  [[['s', 'v', 't'], ['s', 'v', 'w', 't'], ['s', 'w', 't']], [['s', 'v', 't'], ['s', 'v', 'w', 't'], ['s', 'w', 't']]]\n",
      "starting flow  [2, 0]\n",
      "-------- starting round:  0 --------\n"
     ]
    },
    {
     "ename": "NameError",
     "evalue": "name 'softmax' is not defined",
     "output_type": "error",
     "traceback": [
      "\u001b[0;31m---------------------------------------------------------------------------\u001b[0m",
      "\u001b[0;31mNameError\u001b[0m                                 Traceback (most recent call last)",
      "Cell \u001b[0;32mIn[4], line 1\u001b[0m\n\u001b[0;32m----> 1\u001b[0m \u001b[43mbraess_paradox_mixed\u001b[49m\u001b[43m(\u001b[49m\u001b[43m)\u001b[49m\n",
      "Cell \u001b[0;32mIn[3], line 3\u001b[0m, in \u001b[0;36mbraess_paradox_mixed\u001b[0;34m()\u001b[0m\n\u001b[1;32m      1\u001b[0m \u001b[38;5;28;01mdef\u001b[39;00m \u001b[38;5;21mbraess_paradox_mixed\u001b[39m():\n\u001b[1;32m      2\u001b[0m     G, source_sink_pairs, demands, latency_functions \u001b[38;5;241m=\u001b[39m json_to_atomic_instance(\u001b[38;5;124m'\u001b[39m\u001b[38;5;124mgraph_examples/braess_paradox.txt\u001b[39m\u001b[38;5;124m'\u001b[39m)\n\u001b[0;32m----> 3\u001b[0m     paths, probabilties_profile \u001b[38;5;241m=\u001b[39m \u001b[43mmixed\u001b[49m\u001b[43m(\u001b[49m\u001b[43mG\u001b[49m\u001b[43m,\u001b[49m\u001b[43m \u001b[49m\u001b[43msource_sink_pairs\u001b[49m\u001b[43m,\u001b[49m\u001b[43m \u001b[49m\u001b[43mdemands\u001b[49m\u001b[43m,\u001b[49m\u001b[43m \u001b[49m\u001b[43mlatency_functions\u001b[49m\u001b[43m,\u001b[49m\u001b[43m \u001b[49m\u001b[38;5;241;43m10\u001b[39;49m\u001b[43m,\u001b[49m\u001b[43m \u001b[49m\u001b[38;5;241;43m.1\u001b[39;49m\u001b[43m,\u001b[49m\u001b[43m \u001b[49m\u001b[43mverbose\u001b[49m\u001b[38;5;241;43m=\u001b[39;49m\u001b[38;5;28;43;01mTrue\u001b[39;49;00m\u001b[43m)\u001b[49m\n\u001b[1;32m      4\u001b[0m     \u001b[38;5;28mprint\u001b[39m(\u001b[38;5;124m'\u001b[39m\u001b[38;5;124mAll paths: \u001b[39m\u001b[38;5;124m'\u001b[39m, paths)\n\u001b[1;32m      5\u001b[0m     \u001b[38;5;28mprint\u001b[39m(\u001b[38;5;124m'\u001b[39m\u001b[38;5;124mProbabilities profile: \u001b[39m\u001b[38;5;124m'\u001b[39m, probabilties_profile)\n",
      "Cell \u001b[0;32mIn[2], line 49\u001b[0m, in \u001b[0;36mmixed\u001b[0;34m(G, source_sink_pairs, demands, latency_functions, max_iterations, learning_rate, verbose)\u001b[0m\n\u001b[1;32m     46\u001b[0m prev_path \u001b[38;5;241m=\u001b[39m paths[player_idx][prev_path_idx]\n\u001b[1;32m     48\u001b[0m \u001b[38;5;66;03m# construct a new flow\u001b[39;00m\n\u001b[0;32m---> 49\u001b[0m mixed_strat \u001b[38;5;241m=\u001b[39m \u001b[43msoftmax\u001b[49m(logits[player_idx]) \u001b[38;5;66;03m# get a player's mixed strategy from their logits\u001b[39;00m\n\u001b[1;32m     51\u001b[0m \u001b[38;5;66;03m# even if we were at the best move, and we pick a worse alternative\u001b[39;00m\n\u001b[1;32m     52\u001b[0m \u001b[38;5;66;03m# what would happen is that we would evaluate the alternative to be bad, lower its probability of happening\u001b[39;00m\n\u001b[1;32m     53\u001b[0m \u001b[38;5;66;03m# then maybe go back to the best, which by virtue of being the best, we would increase its probability of happening again\u001b[39;00m\n\u001b[1;32m     54\u001b[0m \u001b[38;5;66;03m# this way, good moves get rewarded, bad moves get punished probabilistically\u001b[39;00m\n\u001b[1;32m     55\u001b[0m alternative_path_idx \u001b[38;5;241m=\u001b[39m sample_move_skip_index(mixed_strat, prev_path_idx) \u001b[38;5;66;03m# pick some alternate move (no point of repeating current move)\u001b[39;00m\n",
      "\u001b[0;31mNameError\u001b[0m: name 'softmax' is not defined"
     ]
    },
    {
     "data": {
      "image/png": "[encoded data removed]",
      "text/plain": [
       "<Figure size 640x480 with 1 Axes>"
      ]
     },
     "metadata": {},
     "output_type": "display_data"
    }
   ],
   "source": [
    "braess_paradox_mixed()"
   ]
  }
 ],
 "metadata": {
  "kernelspec": {
   "display_name": "Python 3 (ipykernel)",
   "language": "python",
   "name": "python3"
  },
  "language_info": {
   "codemirror_mode": {
    "name": "ipython",
    "version": 3
   },
   "file_extension": ".py",
   "mimetype": "text/x-python",
   "name": "python",
   "nbconvert_exporter": "python",
   "pygments_lexer": "ipython3",
   "version": "3.9.6"
  }
 },
 "nbformat": 4,
 "nbformat_minor": 5
}
