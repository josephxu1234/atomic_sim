{
 "cells": [
  {
   "cell_type": "code",
   "execution_count": 1,
   "id": "6b924fc2-f1fe-4875-9230-9df03c9d49e8",
   "metadata": {},
   "outputs": [],
   "source": [
    "import networkx as nx\n",
    "from itertools import product\n",
    "from typing import List, Tuple, Dict\n",
    "import json"
   ]
  },
  {
   "cell_type": "code",
   "execution_count": 61,
   "id": "b82de6a3-bc04-452c-ab8d-48035329e8dc",
   "metadata": {},
   "outputs": [],
   "source": [
    "import sympy as sp\n",
    "import numpy as np"
   ]
  },
  {
   "cell_type": "code",
   "execution_count": 23,
   "id": "4e7f1800-b1fa-41a1-9585-f948bfa23d55",
   "metadata": {},
   "outputs": [],
   "source": [
    "# given an expr string that can be evaluated with sympy\n",
    "# return the derivative as a lambda function\n",
    "def get_derivative_function(expression_str, variable='x'):    \n",
    "    # Step 2: Define the variable and parse the expression\n",
    "    x = sp.symbols(variable)\n",
    "    expression = sp.sympify(expression_str)\n",
    "    \n",
    "    # Step 3: Differentiate the expression with respect to x\n",
    "    derivative_expr = sp.diff(expression, x)\n",
    "    \n",
    "    # Step 4: Convert the derivative expression to a Python function\n",
    "    derivative_func = sp.lambdify(x, derivative_expr, 'numpy')\n",
    "    \n",
    "    # Optional: Print derivative expression for verification\n",
    "    print(f\"Original expression: {expression}\")\n",
    "    print(f\"Derivative: {derivative_expr}\")\n",
    "    \n",
    "    return derivative_func"
   ]
  },
  {
   "cell_type": "code",
   "execution_count": 31,
   "id": "65309884-d735-494d-9b09-89420329210c",
   "metadata": {},
   "outputs": [],
   "source": [
    "def json_to_atomic_instance(graph_json, verbose=False):\n",
    "    if isinstance(graph_json, str):\n",
    "        with open(graph_json) as f:\n",
    "            graph = json.load(f)\n",
    "    elif not isinstance(graph_json, dict):\n",
    "        raise Exception('Invalid graph json type. Either requires string of a filename or a json object')\n",
    "    id_to_label = {}\n",
    "    for node in graph['nodes']:\n",
    "        if verbose:\n",
    "            print(node)\n",
    "        id_to_label[node['id']] = node['label']\n",
    "    G = nx.DiGraph()\n",
    "    latency_functions = {}\n",
    "    for edge in graph['edges']:\n",
    "        from_node = id_to_label[edge['from']]\n",
    "        to_node = id_to_label[edge['to']]\n",
    "        G.add_edge(from_node, to_node)\n",
    "\n",
    "        f1 = eval('lambda x: ' + edge['latencyFunction'])\n",
    "        # f2 = get_derivative_function(edge['latencyFunction'], variable='x')\n",
    "        latency_functions[(from_node, to_node)] = f1\n",
    "    source_sink_pairs = []\n",
    "    demands = []\n",
    "    for source_sink_pair in graph['sourceSinkPairs']:\n",
    "        source_node = id_to_label[source_sink_pair['source']]\n",
    "        sink_node = id_to_label[source_sink_pair['sink']]\n",
    "        demand = int(source_sink_pair['demand'])\n",
    "        source_sink_pairs.append((source_node, sink_node))\n",
    "        demands.append(demand)\n",
    "        \n",
    "    nx.draw_networkx(G)\n",
    "    if verbose:\n",
    "        print(latency_functions)\n",
    "    return (G, source_sink_pairs, demands, latency_functions)"
   ]
  },
  {
   "cell_type": "code",
   "execution_count": 14,
   "id": "79dff3f3-42c5-4ece-8558-a654919217e0",
   "metadata": {},
   "outputs": [
    {
     "name": "stdout",
     "output_type": "stream",
     "text": [
      "Original expression: x**2 + 2*x\n",
      "Derivative: 2*x + 2\n",
      "Original expression: 2*x**4 + 4*x**3 + 5\n",
      "Derivative: 8*x**3 + 12*x**2\n"
     ]
    }
   ],
   "source": [
    "# Testing get_derivative_function\n",
    "assert(get_derivative_function('x**2 + 2*x')(2) == 6)\n",
    "assert(get_derivative_function('2*x**4 + 4*x**3 + 5')(3) == 324)"
   ]
  },
  {
   "cell_type": "code",
   "execution_count": 16,
   "id": "2e8d0737-e811-4fc6-882b-478baba1e65a",
   "metadata": {},
   "outputs": [],
   "source": [
    "def get_strategy_sets(G, source_sink_pairs):\n",
    "    # index represents a player (e.g., index 0 = player 0)\n",
    "    # value represents a list of paths the player can take from their source to their sink\n",
    "    paths = []\n",
    "\n",
    "    # Initialize paths array for each player\n",
    "    # idx represents the player, (s, t) represents that player's associated commodity\n",
    "    for idx, (s, t) in enumerate(source_sink_pairs):\n",
    "        simple_paths = list(nx.all_simple_paths(G, s, t))\n",
    "        paths.append(simple_paths)\n",
    "\n",
    "    return paths"
   ]
  },
  {
   "cell_type": "code",
   "execution_count": 18,
   "id": "ae185621-e347-465c-9d67-1ba7def8cc53",
   "metadata": {},
   "outputs": [],
   "source": [
    "# paths: each index represents a player, the value at that index represents that player's available strategy set (ordered)\n",
    "# flow: each index represents a player, the value at that index represents the player's choice of strategy (as an index of their strategy set)\n",
    "# demands: each index represents a player, the value at that index represents how many units of traffic that player is routing\n",
    "\n",
    "# return a dictionary of edge flows, an array of player latencies, and the total latency across all players\n",
    "def calculate_edge_flows(paths, flow, demands, latency_functions):\n",
    "    f_e = {}  # Edge flows. key is an edge (represented as a tuple between 2 vertices), value is the flow (units of traffic on that edge)\n",
    "    # go through each player and their choice of path\n",
    "\n",
    "    player_latencies = [0 for _ in range(len(flow))]\n",
    "    for player_idx, path_idx in enumerate(flow):\n",
    "        path = paths[player_idx][path_idx] # get the path that the player is taking\n",
    "        demand = demands[player_idx]\n",
    "        player_latency = 0\n",
    "        \n",
    "        for i in range(len(path) - 1):\n",
    "            edge = (path[i], path[i + 1])\n",
    "            f_e[edge] = f_e.get(edge, 0) + demand # get the flow for this edge\n",
    "            player_latencies[player_idx] += latency_functions[edge](f_e[edge]) # update the current player's latency\n",
    "    total_latency = sum(player_latencies)\n",
    "    return f_e, player_latencies, total_latency"
   ]
  },
  {
   "cell_type": "code",
   "execution_count": 55,
   "id": "69821201-c8bd-43a0-86ce-43f3e6696511",
   "metadata": {},
   "outputs": [],
   "source": [
    "# paths: each index represents a player, the value at that index represents that player's available strategy set (ordered)\n",
    "# flow: each index represents a player, the value at that index represents the player's choice of strategy (as an index of their strategy set)\n",
    "# demands: each index represents a player, the value at that index represents how many units of traffic that player is routing\n",
    "\n",
    "# return a dictionary of edge flows, an array of player latencies, and the total latency across all players\n",
    "# TODO: fix\n",
    "def calculate_edge_flows_with_taxes(paths, flow, demands, latency_functions):\n",
    "    f_e = {}  # Edge flows. key is an edge (represented as a tuple between 2 vertices), value is the flow (units of traffic on that edge)\n",
    "    # go through each player and their choice of path\n",
    "\n",
    "    player_latencies = [0 for _ in range(len(flow))]\n",
    "    for player_idx, path_idx in enumerate(flow):\n",
    "        path = paths[player_idx][path_idx] # get the path that the player is taking\n",
    "        demand = demands[player_idx]\n",
    "        player_latency = 0\n",
    "        \n",
    "        for i in range(len(path) - 1):\n",
    "            edge = (path[i], path[i + 1])\n",
    "            f_e[edge] = f_e.get(edge, 0) + demand # get the flow for this edge\n",
    "            player_latencies[player_idx] += latency_functions[edge](f_e[edge]) # update the current player's latency\n",
    "    total_latency = sum(player_latencies)\n",
    "    return f_e, player_latencies, total_latency"
   ]
  },
  {
   "cell_type": "code",
   "execution_count": 51,
   "id": "c5526393-6979-4f61-b2a8-b1f8603cd7d2",
   "metadata": {},
   "outputs": [],
   "source": [
    "def brd_alg(\n",
    "    G: nx.DiGraph,\n",
    "    source_sink_pairs: List[Tuple[int, int]],\n",
    "    demands: List[int],\n",
    "    latency_functions: Dict,\n",
    "    max_iterations: int = 1000,\n",
    "    marginal_cost_pricing: bool = False\n",
    "):\n",
    "    # each player's strategy set is represented as a set of available paths from their source to their sink\n",
    "    paths = get_strategy_sets(G, source_sink_pairs)\n",
    "\n",
    "    num_players = len(source_sink_pairs)\n",
    "\n",
    "    # for each player, initialize to 0th strategy (TODO: maybe initialize random)\n",
    "    current_flow = [0 for _ in range(num_players)]\n",
    "\n",
    "    converged = False\n",
    "    iteration = 0\n",
    "\n",
    "    while not converged and iteration < max_iterations:\n",
    "        converged = True # assume convergence unless we find a player that wants to change their strategy\n",
    "        iteration += 1\n",
    "\n",
    "        f_e, player_latencies, total_latency = calculate_edge_flows(paths, current_flow, demands, latency_functions)\n",
    "\n",
    "        # for each player, try to see if they can improve their latency by switching paths\n",
    "        for player_idx in range(num_players):\n",
    "            current_latency = player_latencies[player_idx]\n",
    "            current_path_idx = current_flow[player_idx]\n",
    "            current_path = paths[player_idx][current_path_idx]\n",
    "\n",
    "            # assume for now that we are picking the best response, but this may update if we find something better\n",
    "            best_latency = current_latency\n",
    "            best_path_idx = current_path_idx\n",
    "\n",
    "            for alternative_path_idx, alternative_path in enumerate(paths[player_idx]):\n",
    "                if alternative_path_idx == current_path_idx:\n",
    "                    continue\n",
    "                hypothetical_f_e = f_e.copy()\n",
    "                demand = demands[player_idx]\n",
    "\n",
    "                # Remove player's demand from the paths edges they are currently using\n",
    "                for i in range(len(current_path) - 1):\n",
    "                    edge = (current_path[i], current_path[i + 1])\n",
    "                    hypothetical_f_e[edge] -= demand\n",
    "\n",
    "                # Add player's demand to alternative path edges\n",
    "                for i in range(len(alternative_path) - 1):\n",
    "                    edge = (alternative_path[i], alternative_path[i + 1])\n",
    "                    hypothetical_f_e[edge] = hypothetical_f_e.get(edge, 0) + demand\n",
    "\n",
    "                # Compute latency for the alternative path\n",
    "                alternative_latency = 0\n",
    "                for i in range(len(alternative_path) - 1):\n",
    "                    edge = (alternative_path[i], alternative_path[i + 1])\n",
    "                    flow = hypothetical_f_e[edge]\n",
    "                    edge_latency = latency_functions[edge](flow)\n",
    "                    alternative_latency += edge_latency\n",
    "\n",
    "                # If the alternative latency is better, update best response\n",
    "                if alternative_latency < best_latency:\n",
    "                    best_latency = alternative_latency\n",
    "                    best_path_idx = alternative_path_idx\n",
    "\n",
    "            # If the best path is different from current, update player's path and set converged to False\n",
    "            if best_path_idx != current_flow[player_idx]:\n",
    "                current_flow[player_idx] = best_path_idx\n",
    "                converged = False\n",
    "                break # found a player who can do better, update that player and try BRD again!\n",
    "\n",
    "        if iteration >= max_iterations:\n",
    "            print('reached max iterations')\n",
    "            \n",
    "        # at the end, we should've made enough changes to current_flow s.t. it's an equilibrium flow\n",
    "        f_e, player_latencies, total_latency = calculate_edge_flows(paths, current_flow, demands, latency_functions)\n",
    "\n",
    "    # paths: strategy sets for each player\n",
    "    # current_flow: the equilibrium flow. each idx represents a player, each value represents the strategy that the player picked (ex: strategy 0, 1, ...)\n",
    "    # player_latencies: the latency of each player in the equilibrium flow\n",
    "    # total latency: sum of player latencies\n",
    "    return paths, current_flow, player_latencies, total_latency"
   ]
  },
  {
   "cell_type": "code",
   "execution_count": 46,
   "id": "5002d557-6209-4171-bda0-a322c6089965",
   "metadata": {},
   "outputs": [],
   "source": [
    "def braess_paradox_brd():\n",
    "    G, source_sink_pairs, demands, latency_functions = json_to_atomic_instance('graph_examples/braess_paradox.txt')\n",
    "    paths, equil_flow, player_latencies, min_total_latency = brd_alg(G, source_sink_pairs, demands, latency_functions)\n",
    "    print('All paths: ', paths)\n",
    "    print('player latencies: ', player_latencies)\n",
    "    print('Equilibrium flows: ', equil_flow)\n",
    "    print('Minimum total latency: ', min_total_latency)"
   ]
  },
  {
   "cell_type": "code",
   "execution_count": 48,
   "id": "9c73e752-56ad-4f10-b207-1f88e6c5929b",
   "metadata": {},
   "outputs": [
    {
     "name": "stdout",
     "output_type": "stream",
     "text": [
      "All paths:  [[['s', 'v', 't'], ['s', 'v', 'w', 't'], ['s', 'w', 't']], [['s', 'v', 't'], ['s', 'v', 'w', 't'], ['s', 'w', 't']]]\n",
      "player latencies:  [3, 3]\n",
      "Equilibrium flows:  [0, 1]\n",
      "Minimum total latency:  6\n"
     ]
    },
    {
     "data": {
      "image/png": "[encoded data removed]",
      "text/plain": [
       "<Figure size 640x480 with 1 Axes>"
      ]
     },
     "metadata": {},
     "output_type": "display_data"
    }
   ],
   "source": [
    "braess_paradox_brd()"
   ]
  },
  {
   "cell_type": "code",
   "execution_count": 49,
   "id": "854e9ae5-a621-4b95-9938-14355d303ee4",
   "metadata": {},
   "outputs": [],
   "source": [
    "def AAE_brd():\n",
    "    G, source_sink_pairs, demands, latency_functions = json_to_atomic_instance('graph_examples/aae_example.txt')\n",
    "    paths, equil_flow, player_latencies, min_total_latency = brd_alg(G, source_sink_pairs, demands, latency_functions)\n",
    "    print('All paths: ', paths)\n",
    "    print('player latencies: ', player_latencies)\n",
    "    print('Equilibrium flows: ', equil_flow)\n",
    "    print('Minimum total latency: ', min_total_latency)"
   ]
  },
  {
   "cell_type": "code",
   "execution_count": 50,
   "id": "07af5bb8-51cb-4630-ad4e-801b9a66ea96",
   "metadata": {},
   "outputs": [
    {
     "name": "stdout",
     "output_type": "stream",
     "text": [
      "All paths:  [[['u', 'v'], ['u', 'w', 'v']], [['u', 'v', 'w'], ['u', 'w']], [['v', 'u', 'w'], ['v', 'w']], [['w', 'v'], ['w', 'u', 'v']]]\n",
      "player latencies:  [1, 1, 1, 1]\n",
      "Equilibrium flows:  [0, 1, 1, 0]\n",
      "Minimum total latency:  4\n"
     ]
    },
    {
     "data": {
      "image/png": "[encoded data removed]",
      "text/plain": [
       "<Figure size 640x480 with 1 Axes>"
      ]
     },
     "metadata": {},
     "output_type": "display_data"
    }
   ],
   "source": [
    "AAE_brd()"
   ]
  },
  {
   "cell_type": "code",
   "execution_count": 52,
   "id": "a2a27b1d-4c5b-4ca1-b042-2ff07a1d835d",
   "metadata": {},
   "outputs": [],
   "source": [
    "# given a list of values, return the softmax vector\n",
    "def softmax(values):\n",
    "    exp_values = np.exp(values - np.max(values))  # Shift for numerical stability\n",
    "    return exp_values / np.sum(exp_values)"
   ]
  },
  {
   "cell_type": "code",
   "execution_count": 53,
   "id": "b572adaf-c3d4-4e36-a545-72a07ff4770a",
   "metadata": {},
   "outputs": [],
   "source": [
    "def sample_move(probabilities):\n",
    "    # sample a move based on a probablity distribution\n",
    "    return np.random.choice(len(probabilities), p=probabilities)"
   ]
  },
  {
   "cell_type": "code",
   "execution_count": 132,
   "id": "3c0b487d-371c-48c3-9833-1d6ae365b758",
   "metadata": {},
   "outputs": [],
   "source": [
    "# logits: list of logits for the player's strategies\n",
    "# feedback: feedback for the chosen move\n",
    "# chosen_idx: index of the chosen move\n",
    "# learning rate: step size for updating the logit\n",
    "def update_logits(logits, feedback, chosen_idx, learning_rate=1):\n",
    "    logits[chosen_idx] += learning_rate * feedback\n",
    "    return logits"
   ]
  },
  {
   "cell_type": "code",
   "execution_count": 173,
   "id": "991d3c3e-4534-4458-b0b9-65f6cffb49d7",
   "metadata": {},
   "outputs": [],
   "source": [
    "def mixed_softmax_alg(\n",
    "    G: nx.DiGraph,\n",
    "    source_sink_pairs: List[Tuple[int, int]],\n",
    "    demands: List[int],\n",
    "    latency_functions: Dict,\n",
    "    max_iterations: int = 1000\n",
    "):\n",
    "    # each player's strategy set is represented as a set of available paths from their source to their sink\n",
    "    paths = get_strategy_sets(G, source_sink_pairs)\n",
    "    num_players = len(source_sink_pairs)\n",
    "\n",
    "    logits = [np.array([0.0 for _ in range(len(player_path))]) for player_path in paths]\n",
    "\n",
    "    converged = False\n",
    "    iteration = 0\n",
    "\n",
    "    # want probability to increase as latency decreases\n",
    "    # feedback: player utility (-latency)\n",
    "\n",
    "    while iteration < max_iterations:\n",
    "        iteration += 1\n",
    "\n",
    "        # construct a flow based on picking randomly from each player\n",
    "        probabilities_profile = [softmax(player_logits) for player_logits in logits]\n",
    "\n",
    "        flow = [sample_move(probabilities_profile[player_idx]) for player_idx in range(num_players)]\n",
    "        f_e, player_latencies, total_latency = calculate_edge_flows(paths, flow, demands, latency_functions)\n",
    "        # player utilities are the negatives of player latencies, and act as feedback\n",
    "\n",
    "        for player_idx in range(num_players):\n",
    "            chosen_move = flow[player_idx]\n",
    "            logits[player_idx][chosen_move] += .2 * -1 * player_latencies[player_idx]\n",
    "            \n",
    "            \n",
    "    probabilities_profile = [softmax(player_logits) for player_logits in logits]\n",
    "    print(logits)\n",
    "    # paths: strategy sets for each player\n",
    "    # current_flow: the equilibrium flow. each idx represents a player, each value represents the strategy that the player picked (ex: strategy 0, 1, ...)\n",
    "    # player_latencies: the latency of each player in the equilibrium flow\n",
    "    # total latency: sum of player latencies\n",
    "    return paths, probabilities_profile"
   ]
  },
  {
   "cell_type": "code",
   "execution_count": 174,
   "id": "daf93c4b-967c-4de1-89e0-d6caabb3198c",
   "metadata": {},
   "outputs": [],
   "source": [
    "def braess_paradox_mixed():\n",
    "    G, source_sink_pairs, demands, latency_functions = json_to_atomic_instance('graph_examples/braess_paradox.txt')\n",
    "    paths, probabilties_profile = mixed_softmax_alg(G, source_sink_pairs, demands, latency_functions, 100000)\n",
    "    print('All paths: ', paths)\n",
    "    print('Probabilities profile: ', probabilties_profile)"
   ]
  },
  {
   "cell_type": "code",
   "execution_count": 175,
   "id": "4fdc97e8-93f2-4d52-abbd-62ff506a6b0b",
   "metadata": {},
   "outputs": [
    {
     "name": "stdout",
     "output_type": "stream",
     "text": [
      "[array([-17143.20000001, -17142.79999999, -17142.60000001]), array([-24100.39999999, -24099.79999999, -24098.39999999])]\n",
      "All paths:  [[['s', 'v', 't'], ['s', 'v', 'w', 't'], ['s', 'w', 't']], [['s', 'v', 't'], ['s', 'v', 'w', 't'], ['s', 'w', 't']]]\n",
      "Probabilities profile:  [array([0.23180647, 0.34581462, 0.42237892]), array([0.09793192, 0.1784436 , 0.72362448])]\n"
     ]
    },
    {
     "data": {
      "image/png": "[encoded data removed]",
      "text/plain": [
       "<Figure size 640x480 with 1 Axes>"
      ]
     },
     "metadata": {},
     "output_type": "display_data"
    }
   ],
   "source": [
    "braess_paradox_mixed()"
   ]
  }
 ],
 "metadata": {
  "kernelspec": {
   "display_name": "Python 3 (ipykernel)",
   "language": "python",
   "name": "python3"
  },
  "language_info": {
   "codemirror_mode": {
    "name": "ipython",
    "version": 3
   },
   "file_extension": ".py",
   "mimetype": "text/x-python",
   "name": "python",
   "nbconvert_exporter": "python",
   "pygments_lexer": "ipython3",
   "version": "3.9.6"
  }
 },
 "nbformat": 4,
 "nbformat_minor": 5
}
