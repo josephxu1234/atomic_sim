{
 "cells": [
  {
   "cell_type": "code",
   "execution_count": 6,
   "id": "e8988488-b87c-4105-820a-7ef214c2e45b",
   "metadata": {},
   "outputs": [],
   "source": [
    "from routing_game_utils import *"
   ]
  },
  {
   "cell_type": "code",
   "execution_count": 8,
   "id": "d73b05a5-c7e6-409c-a573-2a9382be7197",
   "metadata": {},
   "outputs": [],
   "source": [
    "import networkx as nx\n",
    "from itertools import product\n",
    "from typing import List, Tuple, Dict\n",
    "import json\n",
    "import random\n",
    "\n",
    "import sympy as sp\n",
    "import numpy as np"
   ]
  },
  {
   "cell_type": "code",
   "execution_count": 9,
   "id": "4f18705d-099f-409c-aef0-a524d5c660c3",
   "metadata": {},
   "outputs": [],
   "source": [
    "def brute_force(G: nx.DiGraph, source_sink_pairs: List[Tuple[int, int]], demands: List[int], latency_functions: Dict):\n",
    "    # each player's strategy set is represented as a set of available paths from their source to their sink\n",
    "    paths = get_strategy_sets(G, source_sink_pairs)\n",
    "\n",
    "    # flow: index represents a player (player 0 = source_sink_pair[0], etc)\n",
    "    # value represents an path index for that player\n",
    "    min_total_latency = float('inf')\n",
    "    best_flow = None # best flow is the one that minimizes total latency\n",
    "\n",
    "    # map a flow tuple to a map detailing the latency each player suffers in the flow\n",
    "    # key: flow tuple, value: map of player : player_latency\n",
    "    equil_lookup = {}\n",
    "\n",
    "    # list of all flow tuples (need tuples for map lookup)\n",
    "    # TODO: calculate product(...) and store in all_flows directly, rather than building all_flows one by one\n",
    "    all_flows = []\n",
    "    \n",
    "    for flow in product(*[[i for i in range(len(path))] for idx, path in enumerate(paths)]):\n",
    "        total_latency = 0\n",
    "        flow_tuple = tuple(flow)\n",
    "        all_flows.append(flow_tuple)\n",
    "        f_e = {} # store the amount of traffic that uses any given edge in this flow\n",
    "\n",
    "        print('*' * 8, flow, '*' * 8)\n",
    "\n",
    "        # calculate how much flow each edge has, store in f_e\n",
    "        for player, path_idx in enumerate(flow):\n",
    "            path = paths[player][path_idx]\n",
    "            print('player {}: path {}'.format(player, paths[player][path_idx]))\n",
    "            for i in range(len(path) - 1):\n",
    "                edge = (path[i], path[i + 1])\n",
    "                if edge in f_e:\n",
    "                    f_e[edge] += demands[player]\n",
    "                else:\n",
    "                    f_e[edge] = demands[player]\n",
    "        print(f_e)\n",
    "\n",
    "        # calculate the sum of each player's latency in this flow\n",
    "        for player, path_idx in enumerate(flow):\n",
    "            path = paths[player][path_idx]\n",
    "            player_latency = 0\n",
    "            # print('player {}: path {}'.format(player, paths[player][path_idx]))\n",
    "            for i in range(len(path) - 1):\n",
    "                edge = (path[i], path[i + 1])\n",
    "                edge_latency = latency_functions[edge](f_e[edge])\n",
    "                total_latency += edge_latency\n",
    "                player_latency += edge_latency\n",
    "            if flow_tuple not in equil_lookup:\n",
    "                equil_lookup[flow_tuple] = {player : player_latency}\n",
    "            else:\n",
    "                equil_lookup[flow_tuple][player] = player_latency\n",
    "                \n",
    "        print(total_latency)\n",
    "\n",
    "        # update optimal flow if it exists\n",
    "        if total_latency <= min_total_latency:\n",
    "            min_total_latency = total_latency\n",
    "            best_flow = flow\n",
    "\n",
    "\n",
    "    # store list of equil flows, each of which is represented by a tuple\n",
    "    equil_flows = []\n",
    "    \n",
    "    # iterate through each flow, check if each one is an equilibrium flow\n",
    "    for flow in all_flows:\n",
    "        is_equil = True\n",
    "        for player in range(len(flow)):\n",
    "            curr_latency = equil_lookup[flow][player]\n",
    "            for path_idx in range(len(paths[player])):\n",
    "                flow_list = list(flow)\n",
    "                flow_list[player] = path_idx\n",
    "                new_flow = tuple(flow_list)\n",
    "                if new_flow in equil_lookup:\n",
    "                    # could've done better by deviating\n",
    "                    if equil_lookup[new_flow][player] < curr_latency: \n",
    "                        is_equil = False\n",
    "                        break\n",
    "        if is_equil:\n",
    "            print('FOUND EQUILIBIRUM FLOW', flow)\n",
    "            equil_flows.append(flow)\n",
    "    \n",
    "    print('*' * 30)\n",
    "    # print out the best path for each player\n",
    "    for player, path_idx in enumerate(best_flow):\n",
    "        print('player {}: path {}'.format(player, paths[player][path_idx]))\n",
    "    return paths, equil_flows, best_flow, min_total_latency\n"
   ]
  },
  {
   "cell_type": "code",
   "execution_count": 10,
   "id": "144fe1af-2435-49ca-a425-a3d88a7a2438",
   "metadata": {},
   "outputs": [],
   "source": [
    "def braess_paradox_bruteforce():\n",
    "    G, source_sink_pairs, demands, latency_functions = json_to_atomic_instance('graph_examples/braess_paradox.txt')\n",
    "    paths, equil_flow, best_flow, min_total_latency = brute_force(G, source_sink_pairs, demands, latency_functions)\n",
    "    print('All paths: ', paths)\n",
    "    print('Equilibrium flows: ', equil_flow)\n",
    "    print('best flow: ', best_flow)\n",
    "    print('Minimum total latency: ', min_total_latency)"
   ]
  },
  {
   "cell_type": "code",
   "execution_count": 11,
   "id": "763a5e38-9ade-4540-b876-fa6b9996479b",
   "metadata": {},
   "outputs": [
    {
     "ename": "FileNotFoundError",
     "evalue": "[Errno 2] No such file or directory: 'graph_examples/braess_paradox.txt'",
     "output_type": "error",
     "traceback": [
      "\u001b[0;31m---------------------------------------------------------------------------\u001b[0m",
      "\u001b[0;31mFileNotFoundError\u001b[0m                         Traceback (most recent call last)",
      "Cell \u001b[0;32mIn[11], line 1\u001b[0m\n\u001b[0;32m----> 1\u001b[0m \u001b[43mbraess_paradox_bruteforce\u001b[49m\u001b[43m(\u001b[49m\u001b[43m)\u001b[49m\n",
      "Cell \u001b[0;32mIn[10], line 2\u001b[0m, in \u001b[0;36mbraess_paradox_bruteforce\u001b[0;34m()\u001b[0m\n\u001b[1;32m      1\u001b[0m \u001b[38;5;28;01mdef\u001b[39;00m \u001b[38;5;21mbraess_paradox_bruteforce\u001b[39m():\n\u001b[0;32m----> 2\u001b[0m     G, source_sink_pairs, demands, latency_functions \u001b[38;5;241m=\u001b[39m \u001b[43mjson_to_atomic_instance\u001b[49m\u001b[43m(\u001b[49m\u001b[38;5;124;43m'\u001b[39;49m\u001b[38;5;124;43mgraph_examples/braess_paradox.txt\u001b[39;49m\u001b[38;5;124;43m'\u001b[39;49m\u001b[43m)\u001b[49m\n\u001b[1;32m      3\u001b[0m     paths, equil_flow, best_flow, min_total_latency \u001b[38;5;241m=\u001b[39m brute_force(G, source_sink_pairs, demands, latency_functions)\n\u001b[1;32m      4\u001b[0m     \u001b[38;5;28mprint\u001b[39m(\u001b[38;5;124m'\u001b[39m\u001b[38;5;124mAll paths: \u001b[39m\u001b[38;5;124m'\u001b[39m, paths)\n",
      "File \u001b[0;32m~/Desktop/atomic_sim/server/graph_examples/routing_game_utils.py:3\u001b[0m, in \u001b[0;36mjson_to_atomic_instance\u001b[0;34m(graph_json, verbose)\u001b[0m\n\u001b[1;32m      1\u001b[0m \u001b[38;5;28;01mimport\u001b[39;00m \u001b[38;5;21;01mnetworkx\u001b[39;00m \u001b[38;5;28;01mas\u001b[39;00m \u001b[38;5;21;01mnx\u001b[39;00m\n\u001b[1;32m      2\u001b[0m \u001b[38;5;28;01mfrom\u001b[39;00m \u001b[38;5;21;01mitertools\u001b[39;00m \u001b[38;5;28;01mimport\u001b[39;00m product\n\u001b[0;32m----> 3\u001b[0m \u001b[38;5;28;01mfrom\u001b[39;00m \u001b[38;5;21;01mtyping\u001b[39;00m \u001b[38;5;28;01mimport\u001b[39;00m List, Tuple, Dict\n\u001b[1;32m      4\u001b[0m \u001b[38;5;28;01mimport\u001b[39;00m \u001b[38;5;21;01mjson\u001b[39;00m\n\u001b[1;32m      5\u001b[0m \u001b[38;5;28;01mimport\u001b[39;00m \u001b[38;5;21;01mrandom\u001b[39;00m\n",
      "\u001b[0;31mFileNotFoundError\u001b[0m: [Errno 2] No such file or directory: 'graph_examples/braess_paradox.txt'"
     ]
    }
   ],
   "source": [
    "braess_paradox_bruteforce()"
   ]
  }
 ],
 "metadata": {
  "kernelspec": {
   "display_name": "Python 3 (ipykernel)",
   "language": "python",
   "name": "python3"
  },
  "language_info": {
   "codemirror_mode": {
    "name": "ipython",
    "version": 3
   },
   "file_extension": ".py",
   "mimetype": "text/x-python",
   "name": "python",
   "nbconvert_exporter": "python",
   "pygments_lexer": "ipython3",
   "version": "3.9.6"
  }
 },
 "nbformat": 4,
 "nbformat_minor": 5
}
